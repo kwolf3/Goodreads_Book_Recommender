{
 "cells": [
  {
   "cell_type": "markdown",
   "metadata": {},
   "source": [
    "## Data Note:\n",
    "This dataset is the Goodreads-books dataset from Kaggle: https://www.kaggle.com/jealousleopard/goodreadsbooks.\n",
    "While I really wanted to pull my own dataset using the Goodreads API, I saw that the API was no longer active after 2020, so this 2-year-old dataset works well enough. Also, this dataset might have some unusual qualities since I have heard that Goodreads data is generally a little bit of a mess."
   ]
  },
  {
   "cell_type": "code",
   "execution_count": 87,
   "metadata": {},
   "outputs": [],
   "source": [
    "import pandas as pd\n",
    "import pathlib"
   ]
  },
  {
   "cell_type": "code",
   "execution_count": 88,
   "metadata": {},
   "outputs": [
    {
     "data": {
      "text/plain": [
       "PosixPath('/Users/kerstinwolf/DS Projects/GitHub/Goodreads_Book_Recommender/Data')"
      ]
     },
     "execution_count": 88,
     "metadata": {},
     "output_type": "execute_result"
    }
   ],
   "source": [
    "data_folder = pathlib.Path.cwd()/'Data'\n",
    "data_folder"
   ]
  },
  {
   "cell_type": "markdown",
   "metadata": {},
   "source": [
    "Some minor data cleaning needed to be performed before I was able to load in this data since there were some cases of a comma being used when it wasn't referring to a column. There were about 4 rows like this that I easily fixed in the csv file in a text editor.\n",
    "Also, it looks like the illustrators are also sometimes included as an author in this dataset."
   ]
  },
  {
   "cell_type": "code",
   "execution_count": 89,
   "metadata": {
    "scrolled": true
   },
   "outputs": [
    {
     "data": {
      "text/html": [
       "<div>\n",
       "<style scoped>\n",
       "    .dataframe tbody tr th:only-of-type {\n",
       "        vertical-align: middle;\n",
       "    }\n",
       "\n",
       "    .dataframe tbody tr th {\n",
       "        vertical-align: top;\n",
       "    }\n",
       "\n",
       "    .dataframe thead th {\n",
       "        text-align: right;\n",
       "    }\n",
       "</style>\n",
       "<table border=\"1\" class=\"dataframe\">\n",
       "  <thead>\n",
       "    <tr style=\"text-align: right;\">\n",
       "      <th></th>\n",
       "      <th>bookID</th>\n",
       "      <th>title</th>\n",
       "      <th>authors</th>\n",
       "      <th>average_rating</th>\n",
       "      <th>isbn</th>\n",
       "      <th>isbn13</th>\n",
       "      <th>language_code</th>\n",
       "      <th>num_pages</th>\n",
       "      <th>ratings_count</th>\n",
       "      <th>text_reviews_count</th>\n",
       "      <th>publication_date</th>\n",
       "      <th>publisher</th>\n",
       "    </tr>\n",
       "  </thead>\n",
       "  <tbody>\n",
       "    <tr>\n",
       "      <th>0</th>\n",
       "      <td>1</td>\n",
       "      <td>Harry Potter and the Half-Blood Prince (Harry ...</td>\n",
       "      <td>J.K. Rowling/Mary GrandPré</td>\n",
       "      <td>4.57</td>\n",
       "      <td>0439785960</td>\n",
       "      <td>9780439785969</td>\n",
       "      <td>eng</td>\n",
       "      <td>652</td>\n",
       "      <td>2095690</td>\n",
       "      <td>27591</td>\n",
       "      <td>9/16/2006</td>\n",
       "      <td>Scholastic Inc.</td>\n",
       "    </tr>\n",
       "    <tr>\n",
       "      <th>1</th>\n",
       "      <td>2</td>\n",
       "      <td>Harry Potter and the Order of the Phoenix (Har...</td>\n",
       "      <td>J.K. Rowling/Mary GrandPré</td>\n",
       "      <td>4.49</td>\n",
       "      <td>0439358078</td>\n",
       "      <td>9780439358071</td>\n",
       "      <td>eng</td>\n",
       "      <td>870</td>\n",
       "      <td>2153167</td>\n",
       "      <td>29221</td>\n",
       "      <td>9/1/2004</td>\n",
       "      <td>Scholastic Inc.</td>\n",
       "    </tr>\n",
       "    <tr>\n",
       "      <th>2</th>\n",
       "      <td>4</td>\n",
       "      <td>Harry Potter and the Chamber of Secrets (Harry...</td>\n",
       "      <td>J.K. Rowling</td>\n",
       "      <td>4.42</td>\n",
       "      <td>0439554896</td>\n",
       "      <td>9780439554893</td>\n",
       "      <td>eng</td>\n",
       "      <td>352</td>\n",
       "      <td>6333</td>\n",
       "      <td>244</td>\n",
       "      <td>11/1/2003</td>\n",
       "      <td>Scholastic</td>\n",
       "    </tr>\n",
       "    <tr>\n",
       "      <th>3</th>\n",
       "      <td>5</td>\n",
       "      <td>Harry Potter and the Prisoner of Azkaban (Harr...</td>\n",
       "      <td>J.K. Rowling/Mary GrandPré</td>\n",
       "      <td>4.56</td>\n",
       "      <td>043965548X</td>\n",
       "      <td>9780439655484</td>\n",
       "      <td>eng</td>\n",
       "      <td>435</td>\n",
       "      <td>2339585</td>\n",
       "      <td>36325</td>\n",
       "      <td>5/1/2004</td>\n",
       "      <td>Scholastic Inc.</td>\n",
       "    </tr>\n",
       "    <tr>\n",
       "      <th>4</th>\n",
       "      <td>8</td>\n",
       "      <td>Harry Potter Boxed Set  Books 1-5 (Harry Potte...</td>\n",
       "      <td>J.K. Rowling/Mary GrandPré</td>\n",
       "      <td>4.78</td>\n",
       "      <td>0439682584</td>\n",
       "      <td>9780439682589</td>\n",
       "      <td>eng</td>\n",
       "      <td>2690</td>\n",
       "      <td>41428</td>\n",
       "      <td>164</td>\n",
       "      <td>9/13/2004</td>\n",
       "      <td>Scholastic</td>\n",
       "    </tr>\n",
       "    <tr>\n",
       "      <th>...</th>\n",
       "      <td>...</td>\n",
       "      <td>...</td>\n",
       "      <td>...</td>\n",
       "      <td>...</td>\n",
       "      <td>...</td>\n",
       "      <td>...</td>\n",
       "      <td>...</td>\n",
       "      <td>...</td>\n",
       "      <td>...</td>\n",
       "      <td>...</td>\n",
       "      <td>...</td>\n",
       "      <td>...</td>\n",
       "    </tr>\n",
       "    <tr>\n",
       "      <th>11122</th>\n",
       "      <td>45631</td>\n",
       "      <td>Expelled from Eden: A William T. Vollmann Reader</td>\n",
       "      <td>William T. Vollmann/Larry McCaffery/Michael He...</td>\n",
       "      <td>4.06</td>\n",
       "      <td>1560254416</td>\n",
       "      <td>9781560254416</td>\n",
       "      <td>eng</td>\n",
       "      <td>512</td>\n",
       "      <td>156</td>\n",
       "      <td>20</td>\n",
       "      <td>12/21/2004</td>\n",
       "      <td>Da Capo Press</td>\n",
       "    </tr>\n",
       "    <tr>\n",
       "      <th>11123</th>\n",
       "      <td>45633</td>\n",
       "      <td>You Bright and Risen Angels</td>\n",
       "      <td>William T. Vollmann</td>\n",
       "      <td>4.08</td>\n",
       "      <td>0140110879</td>\n",
       "      <td>9780140110876</td>\n",
       "      <td>eng</td>\n",
       "      <td>635</td>\n",
       "      <td>783</td>\n",
       "      <td>56</td>\n",
       "      <td>12/1/1988</td>\n",
       "      <td>Penguin Books</td>\n",
       "    </tr>\n",
       "    <tr>\n",
       "      <th>11124</th>\n",
       "      <td>45634</td>\n",
       "      <td>The Ice-Shirt (Seven Dreams #1)</td>\n",
       "      <td>William T. Vollmann</td>\n",
       "      <td>3.96</td>\n",
       "      <td>0140131965</td>\n",
       "      <td>9780140131963</td>\n",
       "      <td>eng</td>\n",
       "      <td>415</td>\n",
       "      <td>820</td>\n",
       "      <td>95</td>\n",
       "      <td>8/1/1993</td>\n",
       "      <td>Penguin Books</td>\n",
       "    </tr>\n",
       "    <tr>\n",
       "      <th>11125</th>\n",
       "      <td>45639</td>\n",
       "      <td>Poor People</td>\n",
       "      <td>William T. Vollmann</td>\n",
       "      <td>3.72</td>\n",
       "      <td>0060878827</td>\n",
       "      <td>9780060878825</td>\n",
       "      <td>eng</td>\n",
       "      <td>434</td>\n",
       "      <td>769</td>\n",
       "      <td>139</td>\n",
       "      <td>2/27/2007</td>\n",
       "      <td>Ecco</td>\n",
       "    </tr>\n",
       "    <tr>\n",
       "      <th>11126</th>\n",
       "      <td>45641</td>\n",
       "      <td>Las aventuras de Tom Sawyer</td>\n",
       "      <td>Mark Twain</td>\n",
       "      <td>3.91</td>\n",
       "      <td>8497646983</td>\n",
       "      <td>9788497646987</td>\n",
       "      <td>spa</td>\n",
       "      <td>272</td>\n",
       "      <td>113</td>\n",
       "      <td>12</td>\n",
       "      <td>5/28/2006</td>\n",
       "      <td>Edimat Libros</td>\n",
       "    </tr>\n",
       "  </tbody>\n",
       "</table>\n",
       "<p>11127 rows × 12 columns</p>\n",
       "</div>"
      ],
      "text/plain": [
       "       bookID                                              title  \\\n",
       "0           1  Harry Potter and the Half-Blood Prince (Harry ...   \n",
       "1           2  Harry Potter and the Order of the Phoenix (Har...   \n",
       "2           4  Harry Potter and the Chamber of Secrets (Harry...   \n",
       "3           5  Harry Potter and the Prisoner of Azkaban (Harr...   \n",
       "4           8  Harry Potter Boxed Set  Books 1-5 (Harry Potte...   \n",
       "...       ...                                                ...   \n",
       "11122   45631   Expelled from Eden: A William T. Vollmann Reader   \n",
       "11123   45633                        You Bright and Risen Angels   \n",
       "11124   45634                    The Ice-Shirt (Seven Dreams #1)   \n",
       "11125   45639                                        Poor People   \n",
       "11126   45641                        Las aventuras de Tom Sawyer   \n",
       "\n",
       "                                                 authors  average_rating  \\\n",
       "0                             J.K. Rowling/Mary GrandPré            4.57   \n",
       "1                             J.K. Rowling/Mary GrandPré            4.49   \n",
       "2                                           J.K. Rowling            4.42   \n",
       "3                             J.K. Rowling/Mary GrandPré            4.56   \n",
       "4                             J.K. Rowling/Mary GrandPré            4.78   \n",
       "...                                                  ...             ...   \n",
       "11122  William T. Vollmann/Larry McCaffery/Michael He...            4.06   \n",
       "11123                                William T. Vollmann            4.08   \n",
       "11124                                William T. Vollmann            3.96   \n",
       "11125                                William T. Vollmann            3.72   \n",
       "11126                                         Mark Twain            3.91   \n",
       "\n",
       "             isbn         isbn13 language_code    num_pages  ratings_count  \\\n",
       "0      0439785960  9780439785969           eng          652        2095690   \n",
       "1      0439358078  9780439358071           eng          870        2153167   \n",
       "2      0439554896  9780439554893           eng          352           6333   \n",
       "3      043965548X  9780439655484           eng          435        2339585   \n",
       "4      0439682584  9780439682589           eng         2690          41428   \n",
       "...           ...            ...           ...          ...            ...   \n",
       "11122  1560254416  9781560254416           eng          512            156   \n",
       "11123  0140110879  9780140110876           eng          635            783   \n",
       "11124  0140131965  9780140131963           eng          415            820   \n",
       "11125  0060878827  9780060878825           eng          434            769   \n",
       "11126  8497646983  9788497646987           spa          272            113   \n",
       "\n",
       "       text_reviews_count publication_date        publisher  \n",
       "0                   27591        9/16/2006  Scholastic Inc.  \n",
       "1                   29221         9/1/2004  Scholastic Inc.  \n",
       "2                     244        11/1/2003       Scholastic  \n",
       "3                   36325         5/1/2004  Scholastic Inc.  \n",
       "4                     164        9/13/2004       Scholastic  \n",
       "...                   ...              ...              ...  \n",
       "11122                  20       12/21/2004    Da Capo Press  \n",
       "11123                  56        12/1/1988    Penguin Books  \n",
       "11124                  95         8/1/1993    Penguin Books  \n",
       "11125                 139        2/27/2007             Ecco  \n",
       "11126                  12        5/28/2006    Edimat Libros  \n",
       "\n",
       "[11127 rows x 12 columns]"
      ]
     },
     "execution_count": 89,
     "metadata": {},
     "output_type": "execute_result"
    }
   ],
   "source": [
    "df = pd.read_csv(data_folder/'books.csv', sep=',')\n",
    "df"
   ]
  },
  {
   "cell_type": "code",
   "execution_count": 90,
   "metadata": {},
   "outputs": [
    {
     "name": "stdout",
     "output_type": "stream",
     "text": [
      "<class 'pandas.core.frame.DataFrame'>\n",
      "RangeIndex: 11127 entries, 0 to 11126\n",
      "Data columns (total 12 columns):\n",
      " #   Column              Non-Null Count  Dtype  \n",
      "---  ------              --------------  -----  \n",
      " 0   bookID              11127 non-null  int64  \n",
      " 1   title               11127 non-null  object \n",
      " 2   authors             11127 non-null  object \n",
      " 3   average_rating      11127 non-null  float64\n",
      " 4   isbn                11127 non-null  object \n",
      " 5   isbn13              11127 non-null  int64  \n",
      " 6   language_code       11127 non-null  object \n",
      " 7     num_pages         11127 non-null  int64  \n",
      " 8   ratings_count       11127 non-null  int64  \n",
      " 9   text_reviews_count  11127 non-null  int64  \n",
      " 10  publication_date    11127 non-null  object \n",
      " 11  publisher           11127 non-null  object \n",
      "dtypes: float64(1), int64(5), object(6)\n",
      "memory usage: 1.0+ MB\n"
     ]
    }
   ],
   "source": [
    "df.info()"
   ]
  },
  {
   "cell_type": "markdown",
   "metadata": {},
   "source": [
    "Turn the isbn13 column from an integer to a string."
   ]
  },
  {
   "cell_type": "code",
   "execution_count": 91,
   "metadata": {},
   "outputs": [],
   "source": [
    "df['isbn13'] = df['isbn13'].astype(str)"
   ]
  },
  {
   "cell_type": "markdown",
   "metadata": {},
   "source": [
    "Adjust the publication_date column from a string to datetime. While doing this, I kept getting an error about one of the dates not being correct, so I added errors = 'coerce' to the code so that an incorrect error with appear as NaT."
   ]
  },
  {
   "cell_type": "code",
   "execution_count": 92,
   "metadata": {},
   "outputs": [],
   "source": [
    "df['publication_date'] = pd.to_datetime(df['publication_date'], format = '%m/%d/%Y', errors = 'coerce')"
   ]
  },
  {
   "cell_type": "code",
   "execution_count": 93,
   "metadata": {},
   "outputs": [
    {
     "data": {
      "text/plain": [
       "11127"
      ]
     },
     "execution_count": 93,
     "metadata": {},
     "output_type": "execute_result"
    }
   ],
   "source": [
    "df['publication_date'].isnull().count()"
   ]
  },
  {
   "cell_type": "markdown",
   "metadata": {},
   "source": [
    "Check again that all data types are correct now."
   ]
  },
  {
   "cell_type": "code",
   "execution_count": 94,
   "metadata": {},
   "outputs": [
    {
     "data": {
      "text/plain": [
       "bookID                         int64\n",
       "title                         object\n",
       "authors                       object\n",
       "average_rating               float64\n",
       "isbn                          object\n",
       "isbn13                        object\n",
       "language_code                 object\n",
       "  num_pages                    int64\n",
       "ratings_count                  int64\n",
       "text_reviews_count             int64\n",
       "publication_date      datetime64[ns]\n",
       "publisher                     object\n",
       "dtype: object"
      ]
     },
     "execution_count": 94,
     "metadata": {},
     "output_type": "execute_result"
    }
   ],
   "source": [
    "df.dtypes"
   ]
  },
  {
   "cell_type": "markdown",
   "metadata": {},
   "source": [
    "I removed the bookID column because it was unnecessary."
   ]
  },
  {
   "cell_type": "code",
   "execution_count": 95,
   "metadata": {
    "scrolled": true
   },
   "outputs": [
    {
     "data": {
      "text/html": [
       "<div>\n",
       "<style scoped>\n",
       "    .dataframe tbody tr th:only-of-type {\n",
       "        vertical-align: middle;\n",
       "    }\n",
       "\n",
       "    .dataframe tbody tr th {\n",
       "        vertical-align: top;\n",
       "    }\n",
       "\n",
       "    .dataframe thead th {\n",
       "        text-align: right;\n",
       "    }\n",
       "</style>\n",
       "<table border=\"1\" class=\"dataframe\">\n",
       "  <thead>\n",
       "    <tr style=\"text-align: right;\">\n",
       "      <th></th>\n",
       "      <th>title</th>\n",
       "      <th>authors</th>\n",
       "      <th>average_rating</th>\n",
       "      <th>isbn</th>\n",
       "      <th>isbn13</th>\n",
       "      <th>language_code</th>\n",
       "      <th>num_pages</th>\n",
       "      <th>ratings_count</th>\n",
       "      <th>text_reviews_count</th>\n",
       "      <th>publication_date</th>\n",
       "      <th>publisher</th>\n",
       "    </tr>\n",
       "  </thead>\n",
       "  <tbody>\n",
       "    <tr>\n",
       "      <th>0</th>\n",
       "      <td>Harry Potter and the Half-Blood Prince (Harry ...</td>\n",
       "      <td>J.K. Rowling/Mary GrandPré</td>\n",
       "      <td>4.57</td>\n",
       "      <td>0439785960</td>\n",
       "      <td>9780439785969</td>\n",
       "      <td>eng</td>\n",
       "      <td>652</td>\n",
       "      <td>2095690</td>\n",
       "      <td>27591</td>\n",
       "      <td>2006-09-16</td>\n",
       "      <td>Scholastic Inc.</td>\n",
       "    </tr>\n",
       "    <tr>\n",
       "      <th>1</th>\n",
       "      <td>Harry Potter and the Order of the Phoenix (Har...</td>\n",
       "      <td>J.K. Rowling/Mary GrandPré</td>\n",
       "      <td>4.49</td>\n",
       "      <td>0439358078</td>\n",
       "      <td>9780439358071</td>\n",
       "      <td>eng</td>\n",
       "      <td>870</td>\n",
       "      <td>2153167</td>\n",
       "      <td>29221</td>\n",
       "      <td>2004-09-01</td>\n",
       "      <td>Scholastic Inc.</td>\n",
       "    </tr>\n",
       "    <tr>\n",
       "      <th>2</th>\n",
       "      <td>Harry Potter and the Chamber of Secrets (Harry...</td>\n",
       "      <td>J.K. Rowling</td>\n",
       "      <td>4.42</td>\n",
       "      <td>0439554896</td>\n",
       "      <td>9780439554893</td>\n",
       "      <td>eng</td>\n",
       "      <td>352</td>\n",
       "      <td>6333</td>\n",
       "      <td>244</td>\n",
       "      <td>2003-11-01</td>\n",
       "      <td>Scholastic</td>\n",
       "    </tr>\n",
       "    <tr>\n",
       "      <th>3</th>\n",
       "      <td>Harry Potter and the Prisoner of Azkaban (Harr...</td>\n",
       "      <td>J.K. Rowling/Mary GrandPré</td>\n",
       "      <td>4.56</td>\n",
       "      <td>043965548X</td>\n",
       "      <td>9780439655484</td>\n",
       "      <td>eng</td>\n",
       "      <td>435</td>\n",
       "      <td>2339585</td>\n",
       "      <td>36325</td>\n",
       "      <td>2004-05-01</td>\n",
       "      <td>Scholastic Inc.</td>\n",
       "    </tr>\n",
       "    <tr>\n",
       "      <th>4</th>\n",
       "      <td>Harry Potter Boxed Set  Books 1-5 (Harry Potte...</td>\n",
       "      <td>J.K. Rowling/Mary GrandPré</td>\n",
       "      <td>4.78</td>\n",
       "      <td>0439682584</td>\n",
       "      <td>9780439682589</td>\n",
       "      <td>eng</td>\n",
       "      <td>2690</td>\n",
       "      <td>41428</td>\n",
       "      <td>164</td>\n",
       "      <td>2004-09-13</td>\n",
       "      <td>Scholastic</td>\n",
       "    </tr>\n",
       "    <tr>\n",
       "      <th>...</th>\n",
       "      <td>...</td>\n",
       "      <td>...</td>\n",
       "      <td>...</td>\n",
       "      <td>...</td>\n",
       "      <td>...</td>\n",
       "      <td>...</td>\n",
       "      <td>...</td>\n",
       "      <td>...</td>\n",
       "      <td>...</td>\n",
       "      <td>...</td>\n",
       "      <td>...</td>\n",
       "    </tr>\n",
       "    <tr>\n",
       "      <th>11122</th>\n",
       "      <td>Expelled from Eden: A William T. Vollmann Reader</td>\n",
       "      <td>William T. Vollmann/Larry McCaffery/Michael He...</td>\n",
       "      <td>4.06</td>\n",
       "      <td>1560254416</td>\n",
       "      <td>9781560254416</td>\n",
       "      <td>eng</td>\n",
       "      <td>512</td>\n",
       "      <td>156</td>\n",
       "      <td>20</td>\n",
       "      <td>2004-12-21</td>\n",
       "      <td>Da Capo Press</td>\n",
       "    </tr>\n",
       "    <tr>\n",
       "      <th>11123</th>\n",
       "      <td>You Bright and Risen Angels</td>\n",
       "      <td>William T. Vollmann</td>\n",
       "      <td>4.08</td>\n",
       "      <td>0140110879</td>\n",
       "      <td>9780140110876</td>\n",
       "      <td>eng</td>\n",
       "      <td>635</td>\n",
       "      <td>783</td>\n",
       "      <td>56</td>\n",
       "      <td>1988-12-01</td>\n",
       "      <td>Penguin Books</td>\n",
       "    </tr>\n",
       "    <tr>\n",
       "      <th>11124</th>\n",
       "      <td>The Ice-Shirt (Seven Dreams #1)</td>\n",
       "      <td>William T. Vollmann</td>\n",
       "      <td>3.96</td>\n",
       "      <td>0140131965</td>\n",
       "      <td>9780140131963</td>\n",
       "      <td>eng</td>\n",
       "      <td>415</td>\n",
       "      <td>820</td>\n",
       "      <td>95</td>\n",
       "      <td>1993-08-01</td>\n",
       "      <td>Penguin Books</td>\n",
       "    </tr>\n",
       "    <tr>\n",
       "      <th>11125</th>\n",
       "      <td>Poor People</td>\n",
       "      <td>William T. Vollmann</td>\n",
       "      <td>3.72</td>\n",
       "      <td>0060878827</td>\n",
       "      <td>9780060878825</td>\n",
       "      <td>eng</td>\n",
       "      <td>434</td>\n",
       "      <td>769</td>\n",
       "      <td>139</td>\n",
       "      <td>2007-02-27</td>\n",
       "      <td>Ecco</td>\n",
       "    </tr>\n",
       "    <tr>\n",
       "      <th>11126</th>\n",
       "      <td>Las aventuras de Tom Sawyer</td>\n",
       "      <td>Mark Twain</td>\n",
       "      <td>3.91</td>\n",
       "      <td>8497646983</td>\n",
       "      <td>9788497646987</td>\n",
       "      <td>spa</td>\n",
       "      <td>272</td>\n",
       "      <td>113</td>\n",
       "      <td>12</td>\n",
       "      <td>2006-05-28</td>\n",
       "      <td>Edimat Libros</td>\n",
       "    </tr>\n",
       "  </tbody>\n",
       "</table>\n",
       "<p>11127 rows × 11 columns</p>\n",
       "</div>"
      ],
      "text/plain": [
       "                                                   title  \\\n",
       "0      Harry Potter and the Half-Blood Prince (Harry ...   \n",
       "1      Harry Potter and the Order of the Phoenix (Har...   \n",
       "2      Harry Potter and the Chamber of Secrets (Harry...   \n",
       "3      Harry Potter and the Prisoner of Azkaban (Harr...   \n",
       "4      Harry Potter Boxed Set  Books 1-5 (Harry Potte...   \n",
       "...                                                  ...   \n",
       "11122   Expelled from Eden: A William T. Vollmann Reader   \n",
       "11123                        You Bright and Risen Angels   \n",
       "11124                    The Ice-Shirt (Seven Dreams #1)   \n",
       "11125                                        Poor People   \n",
       "11126                        Las aventuras de Tom Sawyer   \n",
       "\n",
       "                                                 authors  average_rating  \\\n",
       "0                             J.K. Rowling/Mary GrandPré            4.57   \n",
       "1                             J.K. Rowling/Mary GrandPré            4.49   \n",
       "2                                           J.K. Rowling            4.42   \n",
       "3                             J.K. Rowling/Mary GrandPré            4.56   \n",
       "4                             J.K. Rowling/Mary GrandPré            4.78   \n",
       "...                                                  ...             ...   \n",
       "11122  William T. Vollmann/Larry McCaffery/Michael He...            4.06   \n",
       "11123                                William T. Vollmann            4.08   \n",
       "11124                                William T. Vollmann            3.96   \n",
       "11125                                William T. Vollmann            3.72   \n",
       "11126                                         Mark Twain            3.91   \n",
       "\n",
       "             isbn         isbn13 language_code    num_pages  ratings_count  \\\n",
       "0      0439785960  9780439785969           eng          652        2095690   \n",
       "1      0439358078  9780439358071           eng          870        2153167   \n",
       "2      0439554896  9780439554893           eng          352           6333   \n",
       "3      043965548X  9780439655484           eng          435        2339585   \n",
       "4      0439682584  9780439682589           eng         2690          41428   \n",
       "...           ...            ...           ...          ...            ...   \n",
       "11122  1560254416  9781560254416           eng          512            156   \n",
       "11123  0140110879  9780140110876           eng          635            783   \n",
       "11124  0140131965  9780140131963           eng          415            820   \n",
       "11125  0060878827  9780060878825           eng          434            769   \n",
       "11126  8497646983  9788497646987           spa          272            113   \n",
       "\n",
       "       text_reviews_count publication_date        publisher  \n",
       "0                   27591       2006-09-16  Scholastic Inc.  \n",
       "1                   29221       2004-09-01  Scholastic Inc.  \n",
       "2                     244       2003-11-01       Scholastic  \n",
       "3                   36325       2004-05-01  Scholastic Inc.  \n",
       "4                     164       2004-09-13       Scholastic  \n",
       "...                   ...              ...              ...  \n",
       "11122                  20       2004-12-21    Da Capo Press  \n",
       "11123                  56       1988-12-01    Penguin Books  \n",
       "11124                  95       1993-08-01    Penguin Books  \n",
       "11125                 139       2007-02-27             Ecco  \n",
       "11126                  12       2006-05-28    Edimat Libros  \n",
       "\n",
       "[11127 rows x 11 columns]"
      ]
     },
     "execution_count": 95,
     "metadata": {},
     "output_type": "execute_result"
    }
   ],
   "source": [
    "df = df.drop('bookID', 1)\n",
    "df"
   ]
  },
  {
   "cell_type": "markdown",
   "metadata": {},
   "source": [
    "Get some more information about the data that are floats and integers."
   ]
  },
  {
   "cell_type": "code",
   "execution_count": 97,
   "metadata": {},
   "outputs": [
    {
     "data": {
      "text/html": [
       "<div>\n",
       "<style scoped>\n",
       "    .dataframe tbody tr th:only-of-type {\n",
       "        vertical-align: middle;\n",
       "    }\n",
       "\n",
       "    .dataframe tbody tr th {\n",
       "        vertical-align: top;\n",
       "    }\n",
       "\n",
       "    .dataframe thead th {\n",
       "        text-align: right;\n",
       "    }\n",
       "</style>\n",
       "<table border=\"1\" class=\"dataframe\">\n",
       "  <thead>\n",
       "    <tr style=\"text-align: right;\">\n",
       "      <th></th>\n",
       "      <th>average_rating</th>\n",
       "      <th>num_pages</th>\n",
       "      <th>ratings_count</th>\n",
       "      <th>text_reviews_count</th>\n",
       "    </tr>\n",
       "  </thead>\n",
       "  <tbody>\n",
       "    <tr>\n",
       "      <th>count</th>\n",
       "      <td>11127.000000</td>\n",
       "      <td>11127.000000</td>\n",
       "      <td>1.112700e+04</td>\n",
       "      <td>11127.000000</td>\n",
       "    </tr>\n",
       "    <tr>\n",
       "      <th>mean</th>\n",
       "      <td>3.933631</td>\n",
       "      <td>336.376921</td>\n",
       "      <td>1.793641e+04</td>\n",
       "      <td>541.854498</td>\n",
       "    </tr>\n",
       "    <tr>\n",
       "      <th>std</th>\n",
       "      <td>0.352445</td>\n",
       "      <td>241.127305</td>\n",
       "      <td>1.124794e+05</td>\n",
       "      <td>2576.176608</td>\n",
       "    </tr>\n",
       "    <tr>\n",
       "      <th>min</th>\n",
       "      <td>0.000000</td>\n",
       "      <td>0.000000</td>\n",
       "      <td>0.000000e+00</td>\n",
       "      <td>0.000000</td>\n",
       "    </tr>\n",
       "    <tr>\n",
       "      <th>25%</th>\n",
       "      <td>3.770000</td>\n",
       "      <td>192.000000</td>\n",
       "      <td>1.040000e+02</td>\n",
       "      <td>9.000000</td>\n",
       "    </tr>\n",
       "    <tr>\n",
       "      <th>50%</th>\n",
       "      <td>3.960000</td>\n",
       "      <td>299.000000</td>\n",
       "      <td>7.450000e+02</td>\n",
       "      <td>46.000000</td>\n",
       "    </tr>\n",
       "    <tr>\n",
       "      <th>75%</th>\n",
       "      <td>4.135000</td>\n",
       "      <td>416.000000</td>\n",
       "      <td>4.993500e+03</td>\n",
       "      <td>237.500000</td>\n",
       "    </tr>\n",
       "    <tr>\n",
       "      <th>max</th>\n",
       "      <td>5.000000</td>\n",
       "      <td>6576.000000</td>\n",
       "      <td>4.597666e+06</td>\n",
       "      <td>94265.000000</td>\n",
       "    </tr>\n",
       "  </tbody>\n",
       "</table>\n",
       "</div>"
      ],
      "text/plain": [
       "       average_rating     num_pages  ratings_count  text_reviews_count\n",
       "count    11127.000000  11127.000000   1.112700e+04        11127.000000\n",
       "mean         3.933631    336.376921   1.793641e+04          541.854498\n",
       "std          0.352445    241.127305   1.124794e+05         2576.176608\n",
       "min          0.000000      0.000000   0.000000e+00            0.000000\n",
       "25%          3.770000    192.000000   1.040000e+02            9.000000\n",
       "50%          3.960000    299.000000   7.450000e+02           46.000000\n",
       "75%          4.135000    416.000000   4.993500e+03          237.500000\n",
       "max          5.000000   6576.000000   4.597666e+06        94265.000000"
      ]
     },
     "execution_count": 97,
     "metadata": {},
     "output_type": "execute_result"
    }
   ],
   "source": [
    "df.describe()"
   ]
  },
  {
   "cell_type": "markdown",
   "metadata": {},
   "source": [
    "Double check to make sure there are no duplicate rows in this dataset."
   ]
  },
  {
   "cell_type": "code",
   "execution_count": 98,
   "metadata": {},
   "outputs": [],
   "source": [
    "dup = df.duplicated()\n",
    "for item in dup:\n",
    "    #print(item)\n",
    "    if item == True:\n",
    "        print(item)"
   ]
  },
  {
   "cell_type": "markdown",
   "metadata": {},
   "source": [
    "It looks like we have a variety of books in different languages. Also, some books are listed as just English, while others specify US English, British Ennglish, or Canadian English."
   ]
  },
  {
   "cell_type": "code",
   "execution_count": 99,
   "metadata": {},
   "outputs": [
    {
     "data": {
      "text/plain": [
       "array(['eng', 'en-US', 'fre', 'spa', 'en-GB', 'mul', 'grc', 'enm',\n",
       "       'en-CA', 'ger', 'jpn', 'ara', 'nl', 'zho', 'lat', 'por', 'srp',\n",
       "       'ita', 'rus', 'msa', 'glg', 'wel', 'swe', 'nor', 'tur', 'gla',\n",
       "       'ale'], dtype=object)"
      ]
     },
     "execution_count": 99,
     "metadata": {},
     "output_type": "execute_result"
    }
   ],
   "source": [
    "df['language_code'].unique()"
   ]
  },
  {
   "cell_type": "markdown",
   "metadata": {},
   "source": [
    "Notes to do next:\n",
    "* Adjust langauge code to full names\n",
    "* Make publication month column\n",
    "* Make publication year column"
   ]
  },
  {
   "cell_type": "code",
   "execution_count": null,
   "metadata": {},
   "outputs": [],
   "source": []
  },
  {
   "cell_type": "markdown",
   "metadata": {},
   "source": [
    "Add count plot or chart showing number of books in each language"
   ]
  },
  {
   "cell_type": "markdown",
   "metadata": {},
   "source": [
    "Add chart showing distribution of average ratings"
   ]
  },
  {
   "cell_type": "markdown",
   "metadata": {},
   "source": [
    "Add chart showing distribution of pages"
   ]
  },
  {
   "cell_type": "markdown",
   "metadata": {},
   "source": [
    "Add chart showing distribution of ratings count"
   ]
  },
  {
   "cell_type": "markdown",
   "metadata": {},
   "source": [
    "Add chart showing distribution of text reviews count"
   ]
  },
  {
   "cell_type": "markdown",
   "metadata": {},
   "source": [
    "Add chart looking into publication month as well as publication year"
   ]
  },
  {
   "cell_type": "markdown",
   "metadata": {},
   "source": [
    "Add chart looking at number of books sold by each publisher in this dataset"
   ]
  },
  {
   "cell_type": "markdown",
   "metadata": {},
   "source": [
    "Redo all charts made in this notebook into a dashboard on Tableau."
   ]
  },
  {
   "cell_type": "code",
   "execution_count": null,
   "metadata": {},
   "outputs": [],
   "source": []
  }
 ],
 "metadata": {
  "kernelspec": {
   "display_name": "Python 3",
   "language": "python",
   "name": "python3"
  },
  "language_info": {
   "codemirror_mode": {
    "name": "ipython",
    "version": 3
   },
   "file_extension": ".py",
   "mimetype": "text/x-python",
   "name": "python",
   "nbconvert_exporter": "python",
   "pygments_lexer": "ipython3",
   "version": "3.8.5"
  }
 },
 "nbformat": 4,
 "nbformat_minor": 4
}
